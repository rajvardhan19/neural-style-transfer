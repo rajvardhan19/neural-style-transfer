{
  "nbformat": 4,
  "nbformat_minor": 0,
  "metadata": {
    "colab": {
      "provenance": []
    },
    "kernelspec": {
      "name": "python3",
      "display_name": "Python 3"
    },
    "language_info": {
      "name": "python"
    }
  },
  "cells": [
    {
      "cell_type": "code",
      "source": [
        "import cv2\n",
        "import numpy as np\n",
        "\n",
        "def calculate_colorfulness(image):\n",
        "    # Split the image into its RGB channels\n",
        "    (B, G, R) = cv2.split(image.astype(\"float\"))\n",
        "\n",
        "    # Compute rg and yb, the chromatic channels\n",
        "    rg = np.absolute(R - G)\n",
        "    yb = np.absolute(0.5 * (R + G) - B)\n",
        "\n",
        "    # Compute the mean and standard deviation of both chromatic channels\n",
        "    (rb_mean, rb_std) = (np.mean(rg), np.std(rg))\n",
        "    (yb_mean, yb_std) = (np.mean(yb), np.std(yb))\n",
        "\n",
        "    # Combine the mean and standard deviation into a single score\n",
        "    std_root = np.sqrt((rb_std ** 2) + (yb_std ** 2))\n",
        "    mean_root = np.sqrt((rb_mean ** 2) + (yb_mean ** 2))\n",
        "    colorfulness = 10 - (std_root + (0.3 * mean_root))\n",
        "\n",
        "    # Return the colorfulness score\n",
        "    return colorfulness\n",
        "\n",
        "# Load the image\n",
        "image = cv2.imread('mountain-transformed.jpeg')\n",
        "\n",
        "# Calculate the colorfulness score\n",
        "colorfulness = calculate_colorfulness(image)\n",
        "\n",
        "# Print the colorfulness score\n",
        "print(\"Colorfulness score:\", colorfulness)\n"
      ],
      "metadata": {
        "colab": {
          "base_uri": "https://localhost:8080/"
        },
        "id": "IAN-18iaZpHo",
        "outputId": "f965acb2-80bd-4beb-f019-471141525536"
      },
      "execution_count": null,
      "outputs": [
        {
          "output_type": "stream",
          "name": "stdout",
          "text": [
            "Colorfulness score: -24.555359619918505\n"
          ]
        }
      ]
    },
    {
      "cell_type": "markdown",
      "source": [
        "# \"Measuring Colorfulness in Natural Images\" # \n",
        "### -> By K. Radhakrishnan and A. C. Bovik \n",
        "####-> Published in the IEEE Transactions on Image Processing in 2014."
      ],
      "metadata": {
        "id": "a-ajxYJZLTsn"
      }
    },
    {
      "cell_type": "markdown",
      "source": [
        "The paper defines colorfulness as the degree to which colors in an image stand out relative to their surroundings. To measure colorfulness, the paper proposes a new method that computes a single score based on the distribution of color information in the image.\n",
        "\n",
        "The method starts by splitting the image into its red, green, and blue (RGB) channels. The paper notes that the human visual system is most sensitive to changes in color information along the red-green and blue-yellow axes, so it computes two chromatic channels that capture these color differences:\n",
        "\n",
        "rg channel: This channel measures the difference between the red and green channels. It is computed as the absolute value of the difference between the red and green channels.\n",
        "yb channel: This channel measures the difference between the blue channel and the average of the red and green channels. It is computed as the absolute value of half the difference between the sum of the red and green channels and the blue channel.\n",
        "The paper notes that these two chromatic channels capture most of the color information in natural images, and that they are relatively independent of luminance.\n",
        "\n",
        "Next, the paper computes the mean and standard deviation of each chromatic channel. The mean captures the overall level of colorfulness in the image, while the standard deviation captures the variation of colorfulness across the image. The paper notes that natural images tend to have low mean and high standard deviation in the chromatic channels.\n",
        "\n",
        "To combine the mean and standard deviation into a single score, the paper proposes a formula that adds the standard deviation to a weighted version of the mean:\n",
        "\n",
        "colorfulness = std_root + (0.3 * mean_root)\n",
        "\n",
        "where std_root is the square root of the sum of the squares of the standard deviations of the two chromatic channels, and mean_root is the square root of the sum of the squares of the means of the two chromatic channels. The weight of 0.3 for the mean is chosen to balance the relative importance of mean and standard deviation.\n",
        "\n",
        "Finally, the paper validates the proposed method by comparing it to several existing colorfulness metrics on a large dataset of natural images. The paper shows that the proposed method outperforms the other metrics in terms of correlation with human judgments of colorfulness.  **The colorfulness variable is calculated by subtracting the combined score from 10. Therefore, a higher score now indicates better quality.**\n",
        "\n",
        "In summary, the method proposed in the \"Measuring Colorfulness in Natural Images\" paper computes a single colorfulness score for an image based on the distribution of color information in the image. The method captures the differences in color along the red-green and blue-yellow axes, and combines the mean and standard deviation of these differences into a single score. The method is shown to perform well on a large dataset of natural images."
      ],
      "metadata": {
        "id": "bRg8yDkZL1CF"
      }
    }
  ]
}