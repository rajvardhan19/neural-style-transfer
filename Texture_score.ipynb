{
  "nbformat": 4,
  "nbformat_minor": 0,
  "metadata": {
    "colab": {
      "provenance": []
    },
    "kernelspec": {
      "name": "python3",
      "display_name": "Python 3"
    },
    "language_info": {
      "name": "python"
    }
  },
  "cells": [
    {
      "cell_type": "code",
      "source": [
        "import cv2\n",
        "import numpy as np\n",
        "import matplotlib.pyplot as plt\n",
        "\n",
        "def texture_score(img_path, num_scales=4, num_orientations=4):\n",
        "    # Load the image\n",
        "    img = cv2.imread(img_path, 0)\n",
        "\n",
        "    # Initialize the texture score\n",
        "    score = 0.0\n",
        "\n",
        "    # Calculate the Gabor filter bank\n",
        "    filters = []\n",
        "    ksize = 31\n",
        "    for theta in np.arange(0, np.pi, np.pi / num_orientations):\n",
        "        for sigma in np.logspace(0, np.log10(ksize), num_scales):\n",
        "            for lamda in np.logspace(-1, 1, num_scales):\n",
        "                for gamma in np.linspace(0.2, 1.0, num_scales):\n",
        "                    kernel = cv2.getGaborKernel((ksize, ksize), sigma, theta, lamda, gamma, 0, ktype=cv2.CV_32F)\n",
        "                    kernel /= np.sum(kernel)\n",
        "                    filters.append(kernel)\n",
        "\n",
        "    # Apply the Gabor filters to the image and calculate the texture score\n",
        "    for kernel in filters:\n",
        "        filtered = cv2.filter2D(img, cv2.CV_32F, kernel)\n",
        "        score += np.mean(filtered)\n",
        "\n",
        "    # Normalize the texture score by the number of filters\n",
        "    score *= len(filters)\n",
        "\n",
        "    return score\n",
        "\n",
        "img_path = 'mountain8-transformed.jpeg'\n",
        "score = texture_score(img_path)\n",
        "print('Texture Score ==> ',score)\n"
      ],
      "metadata": {
        "colab": {
          "base_uri": "https://localhost:8080/"
        },
        "id": "KEzK_TI0bnR6",
        "outputId": "aec625bc-34d4-4af7-8c07-69a0f4b712cc"
      },
      "execution_count": null,
      "outputs": [
        {
          "output_type": "stream",
          "name": "stdout",
          "text": [
            "Texture Score ==>  2768828.62109375\n"
          ]
        }
      ]
    },
    {
      "cell_type": "markdown",
      "source": [
        "The texture analysis method proposed in \"A Texture Analysis Method for Art Paintings\" by Banerjee et al. is based on Gabor filters, which are used to extract texture features from art paintings.\n",
        "\n",
        "The Gabor filters are designed to capture different aspects of texture, such as scale and orientation. A Gabor filter is defined by several parameters, including the scale, orientation, and spatial frequency. The scale determines the size of the filter, while the orientation determines the angle at which the filter is applied. The spatial frequency determines the number of cycles in the filter.\n",
        "\n",
        "In the paper, the Gabor filters are generated using a log-Gabor function, which is a modified version of the traditional Gabor function. The log-Gabor function is defined as:\n",
        "\n",
        "G(u, v) = exp(-(log(u/u0))^2 / (2log(sigma)^2) - (log(v/v0))^2 / (2log(sigma)^2)) * exp(j2pi*log(u/f0))\n",
        "\n",
        "where u and v are the spatial frequencies, u0 and v0 are the center frequencies, sigma is the bandwidth, f0 is the center frequency, and j is the imaginary unit.\n",
        "\n",
        "To calculate the texture score, the paper proposes a method based on the Gabor filter responses. For each filter, the image is convolved with the filter, and the response is computed as the mean of the absolute values of the filter coefficients. The texture score is then calculated as the sum of the responses for all filters, normalized by the number of filters. This score is used to compare the texture features of different paintings. **This will result in a higher texture score for images with more complex textures, which can be interpreted as better quality**\n",
        "\n",
        "The paper also proposes a method to reduce the dimensionality of the feature space using principal component analysis (PCA). PCA is used to find the principal components of the feature space, which are the directions of maximum variation. By projecting the feature vectors onto the principal components, the dimensionality of the feature space can be reduced. This method is used to reduce the number of features and to improve the performance of the texture analysis method.\n",
        "\n",
        "Overall, the texture analysis method proposed in the paper is based on Gabor filters and is designed to capture the texture features of art paintings. The method calculates a texture score based on the Gabor filter responses and can be used for tasks such as image classification and retrieval."
      ],
      "metadata": {
        "id": "5xS-O8P1PQIc"
      }
    }
  ]
}